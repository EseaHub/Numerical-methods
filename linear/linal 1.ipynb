{
  "nbformat": 4,
  "nbformat_minor": 0,
  "metadata": {
    "colab": {
      "provenance": [],
      "toc_visible": true
    },
    "kernelspec": {
      "name": "python3",
      "display_name": "Python 3"
    },
    "language_info": {
      "name": "python"
    }
  },
  "cells": [
    {
      "cell_type": "markdown",
      "source": [
        "# Отчет по предмету \"Численные методы\"\n",
        "## \"Методы решения задач линейной алгебры\" 1\n",
        "**Студент:** Свистельников Илья Вадимович\n",
        "\n"
      ],
      "metadata": {
        "id": "wIxxH9hB21J1"
      }
    },
    {
      "cell_type": "markdown",
      "source": [
        "**ЗАДАНИЕ 1.1**\n",
        "\n",
        "Реализовать алгоритм LU -  разложения матриц (с выбором главного элемента) в виде программы. Используя разработанное программное обеспечение, решить систему линейных алгебраических уравнений (СЛАУ). Для матрицы СЛАУ вычислить определитель и обратную матрицу.\n",
        "\n",
        "![image.png](data:image/png;base64,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)"
      ],
      "metadata": {
        "id": "v4guGV_y41Xt"
      }
    },
    {
      "cell_type": "code",
      "execution_count": null,
      "metadata": {
        "id": "3fBFN3fEVv5l"
      },
      "outputs": [],
      "source": [
        "import numpy as np\n",
        "\n",
        "A = np.array([[-6, -8, -2, -8], [9, 0, 8, 3], [0, -9, -5, 9], [-1, 4, -8, -4]])\n",
        "b = np.array([[-32, 8, -2, -36]]).transpose()\n",
        "n=4\n",
        "#Ax=b"
      ]
    },
    {
      "cell_type": "code",
      "source": [
        "def lu_decomposition(A):\n",
        "    L = np.zeros([4,4])\n",
        "    U = np.zeros([4,4])\n",
        "\n",
        "    for i in range(n):\n",
        "        for j in range(i, n):\n",
        "            U[i][j] = A[i][j] - sum(L[i][k]*U[k][j] for k in range(i))\n",
        "        for j in range(i, n):\n",
        "            if i == j:\n",
        "                L[i][i] = 1\n",
        "            else:\n",
        "                L[j][i] = (A[j][i] - sum(L[j][k]*U[k][i] for k in range(i))) / U[i][i]\n",
        "\n",
        "    return L, U"
      ],
      "metadata": {
        "id": "hJMPZ5mJkrKD"
      },
      "execution_count": null,
      "outputs": []
    },
    {
      "cell_type": "code",
      "source": [
        "L, U = lu_decomposition(A)\n",
        "print(L)\n",
        "print(U)\n",
        "print(L@U)"
      ],
      "metadata": {
        "colab": {
          "base_uri": "https://localhost:8080/"
        },
        "id": "2o3VbWdPktKT",
        "outputId": "bb931d9c-4ec8-49b2-9b07-797e5c15d67d"
      },
      "execution_count": null,
      "outputs": [
        {
          "output_type": "stream",
          "name": "stdout",
          "text": [
            "[[ 1.          0.          0.          0.        ]\n",
            " [-1.5         1.          0.          0.        ]\n",
            " [-0.          0.75        1.          0.        ]\n",
            " [ 0.16666667 -0.44444444  0.62222222  1.        ]]\n",
            "[[ -6.          -8.          -2.          -8.        ]\n",
            " [  0.         -12.           5.          -9.        ]\n",
            " [  0.           0.          -8.75        15.75      ]\n",
            " [  0.           0.           0.         -16.46666667]]\n",
            "[[-6. -8. -2. -8.]\n",
            " [ 9.  0.  8.  3.]\n",
            " [ 0. -9. -5.  9.]\n",
            " [-1.  4. -8. -4.]]\n"
          ]
        }
      ]
    },
    {
      "cell_type": "code",
      "source": [
        "def z_calculate(b, L):\n",
        "  z = np.zeros(n)\n",
        "  z[0] = b[0]\n",
        "  for i in range(1, n):\n",
        "    z[i] = b[i] - sum(L[i][j]*z[j] for j in range(i))\n",
        "\n",
        "  return z"
      ],
      "metadata": {
        "id": "Zm3DVQDC4xZu"
      },
      "execution_count": null,
      "outputs": []
    },
    {
      "cell_type": "code",
      "source": [
        "z = z_calculate(b, L)\n",
        "z"
      ],
      "metadata": {
        "colab": {
          "base_uri": "https://localhost:8080/"
        },
        "id": "j_w2uLxovsXk",
        "outputId": "16ba9e45-d5dc-4254-f186-6350fa1dee3f"
      },
      "execution_count": null,
      "outputs": [
        {
          "output_type": "stream",
          "name": "stderr",
          "text": [
            "<ipython-input-4-cd845087ba81>:3: DeprecationWarning: Conversion of an array with ndim > 0 to a scalar is deprecated, and will error in future. Ensure you extract a single element from your array before performing this operation. (Deprecated NumPy 1.25.)\n",
            "  z[0] = b[0]\n",
            "<ipython-input-4-cd845087ba81>:5: DeprecationWarning: Conversion of an array with ndim > 0 to a scalar is deprecated, and will error in future. Ensure you extract a single element from your array before performing this operation. (Deprecated NumPy 1.25.)\n",
            "  z[i] = b[i] - sum(L[i][j]*z[j] for j in range(i))\n"
          ]
        },
        {
          "output_type": "execute_result",
          "data": {
            "text/plain": [
              "array([-32.        , -40.        ,  28.        , -65.86666667])"
            ]
          },
          "metadata": {},
          "execution_count": 5
        }
      ]
    },
    {
      "cell_type": "code",
      "source": [
        "x = np.zeros(n)\n",
        "x[n-1] = z[n-1]/U[n-1][n-1]\n",
        "for i in range(n-2, -1, -1):\n",
        "  x[i] = (z[i] - sum(U[i][j]*x[j] for j in range(i, n)))/U[i][i]\n",
        "x"
      ],
      "metadata": {
        "colab": {
          "base_uri": "https://localhost:8080/"
        },
        "id": "UU4Bq1GM1zbx",
        "outputId": "64755f87-a801-4673-bfe6-b0c1faa8f1ba"
      },
      "execution_count": null,
      "outputs": [
        {
          "output_type": "execute_result",
          "data": {
            "text/plain": [
              "array([-4.,  2.,  4.,  4.])"
            ]
          },
          "metadata": {},
          "execution_count": 6
        }
      ]
    },
    {
      "cell_type": "code",
      "source": [
        "A_inv = np.linalg.inv(U) @ np.linalg.inv(L)\n",
        "det=1\n",
        "for i in range(n):\n",
        "  det*=U[i][i]\n",
        "print(A_inv, '\\n', det)"
      ],
      "metadata": {
        "colab": {
          "base_uri": "https://localhost:8080/"
        },
        "id": "2xO94vrC62w-",
        "outputId": "c174a2fc-b19b-4c4c-9293-2905418156fc"
      },
      "execution_count": null,
      "outputs": [
        {
          "output_type": "stream",
          "name": "stdout",
          "text": [
            "[[ 0.02660497  0.14189319  0.02853287  0.11740891]\n",
            " [-0.07142857 -0.04761905 -0.04761905  0.        ]\n",
            " [-0.00260266 -0.01388086 -0.04626952 -0.10931174]\n",
            " [-0.07287449 -0.05533063  0.03778677 -0.06072874]] \n",
            " 10374.000000000002\n"
          ]
        }
      ]
    },
    {
      "cell_type": "markdown",
      "source": [
        "Проверка"
      ],
      "metadata": {
        "id": "A0N_PRGbRO1c"
      }
    },
    {
      "cell_type": "code",
      "source": [
        "np.linalg.solve(A,b)"
      ],
      "metadata": {
        "id": "4X1tiFgeSQWl",
        "outputId": "15ee6b0a-23bc-4314-ad8f-82425bc7fd4d",
        "colab": {
          "base_uri": "https://localhost:8080/"
        }
      },
      "execution_count": null,
      "outputs": [
        {
          "output_type": "execute_result",
          "data": {
            "text/plain": [
              "array([[-4.],\n",
              "       [ 2.],\n",
              "       [ 4.],\n",
              "       [ 4.]])"
            ]
          },
          "metadata": {},
          "execution_count": 8
        }
      ]
    },
    {
      "cell_type": "code",
      "source": [
        "print(np.linalg.inv(A))\n",
        "np.linalg.det(A)"
      ],
      "metadata": {
        "colab": {
          "base_uri": "https://localhost:8080/"
        },
        "id": "CGO-MqtaQ0Ek",
        "outputId": "91a1f963-cd5f-4036-979c-55f51f4f4138"
      },
      "execution_count": null,
      "outputs": [
        {
          "output_type": "stream",
          "name": "stdout",
          "text": [
            "[[ 0.02660497  0.14189319  0.02853287  0.11740891]\n",
            " [-0.07142857 -0.04761905 -0.04761905 -0.        ]\n",
            " [-0.00260266 -0.01388086 -0.04626952 -0.10931174]\n",
            " [-0.07287449 -0.05533063  0.03778677 -0.06072874]]\n"
          ]
        },
        {
          "output_type": "execute_result",
          "data": {
            "text/plain": [
              "10374.00000000001"
            ]
          },
          "metadata": {},
          "execution_count": 9
        }
      ]
    },
    {
      "cell_type": "markdown",
      "source": [
        "### Вывод по заданию 1.1\n",
        "\n",
        "Был реализован метод LU-разложения с выбором главного элемента и метод поиска решения СЛАУ на его основе. В ходе\n",
        "работы также посчитан определитель матрицы и её обратная матрица.\n"
      ],
      "metadata": {
        "id": "inw9Betw5pYU"
      }
    },
    {
      "cell_type": "markdown",
      "source": [
        "**ЗАДАНИЕ 1.2**\n",
        "\n",
        "Реализовать метод прогонки в виде программы, задавая в качестве входных данных ненулевые элементы матрицы системы и\n",
        "вектор правых частей. Используя разработанное программное обеспечение, решить СЛАУ с трехдиагональной матрицей.\n",
        "\n",
        "![image.png](data:image/png;base64,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)"
      ],
      "metadata": {
        "id": "TKL8bn6R6Jd-"
      }
    },
    {
      "cell_type": "code",
      "execution_count": null,
      "metadata": {
        "colab": {
          "base_uri": "https://localhost:8080/"
        },
        "id": "scPJdCm38LdX",
        "outputId": "8342a476-f859-46b1-e976-79edebd292cf"
      },
      "outputs": [
        {
          "output_type": "execute_result",
          "data": {
            "text/plain": [
              "array([ 7., -8., -3.,  6., -1.])"
            ]
          },
          "metadata": {},
          "execution_count": 1
        }
      ],
      "source": [
        "import numpy as np\n",
        "n=5\n",
        "alpha = [0, -3, -2, -2, -3]\n",
        "beta = [7, -7, 15, -12, -10]\n",
        "charlie = [-2, 4, 5, -8, 0]\n",
        "delta = [65, 23, 1, -58, -8]\n",
        "P = np.zeros(n)\n",
        "Q = np.zeros(n)\n",
        "x = np.zeros(n)\n",
        "\n",
        "P[0] = -charlie[0]/beta[0]\n",
        "Q[0] = delta[0]/beta[0]\n",
        "P[n-1]=0\n",
        "for i in range(1, n-1):\n",
        "    P[i] = -charlie[i]/(beta[i]+alpha[i]*P[i-1])\n",
        "    Q[i] = (delta[i]-alpha[i]*Q[i-1])/(beta[i]+alpha[i]*P[i-1])\n",
        "\n",
        "Q[n-1] = (delta[n-1]-alpha[n-1]*Q[n-2])/(beta[n-1]+alpha[n-1]*P[n-2])\n",
        "x[n-1] = Q[n-1]\n",
        "for i in range(n-2, -1, -1):\n",
        "  x[i] = P[i]*x[i+1] + Q[i]\n",
        "\n",
        "x"
      ]
    },
    {
      "cell_type": "markdown",
      "source": [
        "Проверка"
      ],
      "metadata": {
        "id": "IHc8OLLvTunF"
      }
    },
    {
      "cell_type": "code",
      "source": [
        "A=np.matrix([\n",
        "[7,-2,0,0,0],\n",
        "[-3,-7,4,0,0],\n",
        "[0,-2,15,5,0],\n",
        "[0,0,-2,-12,-8],\n",
        "[0,0,0,-3,-10]])\n",
        "np.linalg.solve(A, delta)"
      ],
      "metadata": {
        "colab": {
          "base_uri": "https://localhost:8080/"
        },
        "id": "QF0NUfGGTvky",
        "outputId": "00ae3ec3-bd63-4bc3-875b-82229b3de7c0"
      },
      "execution_count": null,
      "outputs": [
        {
          "output_type": "execute_result",
          "data": {
            "text/plain": [
              "array([ 7., -8., -3.,  6., -1.])"
            ]
          },
          "metadata": {},
          "execution_count": 2
        }
      ]
    },
    {
      "cell_type": "markdown",
      "source": [
        "### Вывод по заданию 1.2\n",
        "\n",
        "Был реализован метод прогонки и решена СЛАУ на его основе.\n",
        "\n"
      ],
      "metadata": {
        "id": "ouB593246lLl"
      }
    },
    {
      "cell_type": "markdown",
      "source": [
        "**ЗАДАНИЕ 1.3**\n",
        "\n",
        "Реализовать метод простых итераций и метод Зейделя в виде программ, задавая в качестве входных данных матрицу системы,\n",
        "вектор правых частей и точность вычислений. Используя разработанное программное обеспечение, решить СЛАУ.\n",
        "Проанализировать количество итераций, необходимое для достижения заданной точности.\n",
        "\n",
        "![image.png](data:image/png;base64,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)"
      ],
      "metadata": {
        "id": "6dSY5Z-T8Cs1"
      }
    },
    {
      "cell_type": "code",
      "source": [
        "import numpy as np\n",
        "import matplotlib.pyplot as plt\n",
        "A = np.array([[24, 9, -1, -5], [-1, -14, 1, 9], [-7, 5, -21, 0], [1, 4, 8, -22]])\n",
        "b = np.array([-24, 40, -84, -56])\n",
        "eps = 1e-10\n",
        "\n",
        "def simple_iterations(A, b, eps):\n",
        "  n = len(A)\n",
        "  x = np.zeros(n)\n",
        "  x_prev = np.ones(n)\n",
        "  iter = 0\n",
        "  while np.linalg.norm(x - x_prev) > eps:\n",
        "    x_prev = np.copy(x)\n",
        "    for i in range(n):\n",
        "      x[i] = b[i]\n",
        "      for j in range(n):\n",
        "        if j != i:\n",
        "          x[i] -= A[i,j] * x_prev[j]\n",
        "      x[i] /= A[i,i]\n",
        "    iter+=1\n",
        "  return x,iter\n",
        "\n",
        "\n",
        "def seidel(A, b, eps):\n",
        "  n = len(A)\n",
        "  x = np.zeros(n)\n",
        "  x_prev = np.ones(n)\n",
        "  iter = 0\n",
        "  while np.linalg.norm(x - x_prev) > eps:\n",
        "    x_prev = np.copy(x)\n",
        "    for i in range(n):\n",
        "      sum1 = np.dot(A[i][:i], x[:i])\n",
        "      sum2 = np.dot(A[i][i + 1:], x_prev[i + 1:])\n",
        "      x[i] = (b[i] - sum1 - sum2) / A[i][i]\n",
        "\n",
        "      if np.linalg.norm(x - x_prev) < eps:\n",
        "        break\n",
        "    iter+=1\n",
        "  return x,iter"
      ],
      "metadata": {
        "id": "fSINgnUKcc0T"
      },
      "execution_count": null,
      "outputs": []
    },
    {
      "cell_type": "code",
      "source": [
        "x_simple, iterations_simple = simple_iterations(A, b, eps)\n",
        "print(\"Метод простых итераций:\")\n",
        "print(f\"Решение: {x_simple}, Итераций: {iterations_simple}\")\n",
        "\n",
        "ITER=[]\n",
        "EPS=np.arange(10e-2,10e-24,-10e-6)\n",
        "for eps in EPS:\n",
        "  X,iterations = simple_iterations(A, b, eps)\n",
        "  ITER.append(iterations)\n",
        "plt.plot(ITER,EPS)\n",
        "plt.ylabel(\"Погрешность\")\n",
        "plt.xlabel(\"Итерации\")"
      ],
      "metadata": {
        "colab": {
          "base_uri": "https://localhost:8080/",
          "height": 501
        },
        "id": "Te-scit9YwGV",
        "outputId": "8bba5a1c-a329-441b-f6bb-948f115e7f66"
      },
      "execution_count": null,
      "outputs": [
        {
          "output_type": "stream",
          "name": "stdout",
          "text": [
            "Метод простых итераций:\n",
            "Решение: [ 1.75472969e-11 -4.96177068e-11  4.00000000e+00  4.00000000e+00], Итераций: 41\n"
          ]
        },
        {
          "output_type": "execute_result",
          "data": {
            "text/plain": [
              "Text(0.5, 0, 'Итерации')"
            ]
          },
          "metadata": {},
          "execution_count": 2
        },
        {
          "output_type": "display_data",
          "data": {
            "text/plain": [
              "<Figure size 640x480 with 1 Axes>"
            ],
            "image/png": "[encoded data removed]"
          },
          "metadata": {}
        }
      ]
    },
    {
      "cell_type": "code",
      "source": [
        "x_seidel, iterations_seidel = seidel(A, b, eps)\n",
        "print(\"Метод Зейделя:\")\n",
        "print(f\"Решение: {x_seidel}, Итераций: {iterations_seidel}\")\n",
        "\n",
        "ITER=[]\n",
        "EPS=np.arange(10e-2,10e-24,-10e-6)\n",
        "for eps in EPS:\n",
        "  X,iterations = seidel(A, b, eps)\n",
        "  ITER.append(iterations)\n",
        "plt.plot(ITER,EPS)\n",
        "plt.ylabel(\"Погрешность\")\n",
        "plt.xlabel(\"Итерации\")"
      ],
      "metadata": {
        "colab": {
          "base_uri": "https://localhost:8080/",
          "height": 501
        },
        "id": "iSZBJ5xWYzfk",
        "outputId": "efb667c3-8216-43c8-b463-2c81accdd212"
      },
      "execution_count": null,
      "outputs": [
        {
          "output_type": "stream",
          "name": "stdout",
          "text": [
            "Метод Зейделя:\n",
            "Решение: [ 1.83008726e-06 -6.54327430e-06  3.99999628e+00  3.99999775e+00], Итераций: 12\n"
          ]
        },
        {
          "output_type": "execute_result",
          "data": {
            "text/plain": [
              "Text(0.5, 0, 'Итерации')"
            ]
          },
          "metadata": {},
          "execution_count": 3
        },
        {
          "output_type": "display_data",
          "data": {
            "text/plain": [
              "<Figure size 640x480 with 1 Axes>"
            ],
            "image/png": "[encoded data removed]"
          },
          "metadata": {}
        }
      ]
    },
    {
      "cell_type": "markdown",
      "source": [
        "Проверка"
      ],
      "metadata": {
        "id": "mGnSCRc7Ua_0"
      }
    },
    {
      "cell_type": "code",
      "source": [
        "np.linalg.solve(A,b)"
      ],
      "metadata": {
        "colab": {
          "base_uri": "https://localhost:8080/"
        },
        "id": "APXWIV2bwKor",
        "outputId": "4d9a8366-08ec-4a92-e49d-b1bfd6928baf"
      },
      "execution_count": null,
      "outputs": [
        {
          "output_type": "execute_result",
          "data": {
            "text/plain": [
              "array([ 4.85510375e-17, -2.28155924e-16,  4.00000000e+00,  4.00000000e+00])"
            ]
          },
          "metadata": {},
          "execution_count": 4
        }
      ]
    },
    {
      "cell_type": "markdown",
      "source": [
        "### Вывод по заданию 1.3\n",
        "\n",
        "Был реализован метод Гаусса-Зейделя и решена СЛАУ на его основе. Можно наблюдать прямую зависимость между точностью\n",
        "как число знаков после запятой и количеством итераций\n",
        "\n"
      ],
      "metadata": {
        "id": "hcE8pUYS8RLM"
      }
    },
    {
      "cell_type": "markdown",
      "source": [
        "**ЗАДАНИЕ 1.4**\n",
        "\n",
        "Реализовать метод вращений в виде программы, задавая в качестве входных данных матрицу и точность вычислений.\n",
        "Используя разработанное программное обеспечение, найти собственные значения и собственные векторы симметрических\n",
        "матриц. Проанализировать зависимость погрешности вычислений от числа итераций.\n",
        "\n",
        "![image.png](data:image/png;base64,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)"
      ],
      "metadata": {
        "id": "5n-rhj9K8lCO"
      }
    },
    {
      "cell_type": "code",
      "execution_count": null,
      "metadata": {
        "colab": {
          "base_uri": "https://localhost:8080/"
        },
        "id": "msXXaLRReaa1",
        "outputId": "25b55df2-eb8c-4769-eb57-f633f609dd33"
      },
      "outputs": [
        {
          "output_type": "execute_result",
          "data": {
            "text/plain": [
              "array([[-4,  1,  7],\n",
              "       [ 1,  8, -5],\n",
              "       [ 7, -5,  1]])"
            ]
          },
          "metadata": {},
          "execution_count": 2
        }
      ],
      "source": [
        "import numpy as np\n",
        "A = np.array([[-4, 1, 7], [1, 8, -5], [7, -5, 1]])\n",
        "A"
      ]
    },
    {
      "cell_type": "code",
      "source": [
        "import numpy as np\n",
        "\n",
        "def jacobi_rotation(A, eps):\n",
        "  n = len(A)\n",
        "  eigenvectors = np.eye(n)\n",
        "  iterations = 0\n",
        "\n",
        "  while True:\n",
        "    max_off_diag = 0\n",
        "    p = 0\n",
        "    q = 0\n",
        "    for i in range(n):\n",
        "      for j in range(i + 1, n):\n",
        "        if abs(A[i][j]) > max_off_diag:\n",
        "          max_off_diag = abs(A[i][j])\n",
        "          p = i\n",
        "          q = j\n",
        "    if max_off_diag < eps:\n",
        "      break\n",
        "    if A[p][p] == A[q][q]:\n",
        "      theta = np.pi / 4\n",
        "    else:\n",
        "      theta = 0.5 * np.arctan(2 * A[p][q] / (A[p][p] - A[q][q]))\n",
        "    c = np.cos(theta)\n",
        "    s = np.sin(theta)\n",
        "\n",
        "    R = np.eye(n)\n",
        "    R[p][p] = c\n",
        "    R[p][q] = -s\n",
        "    R[q][p] = s\n",
        "    R[q][q] = c\n",
        "\n",
        "    A = np.dot(np.dot(np.transpose(R), A), R)\n",
        "    eigenvectors = np.dot(eigenvectors, R)\n",
        "    iterations += 1\n",
        "\n",
        "  eigenvalues = [A[i][i] for i in range(n)]\n",
        "\n",
        "  return eigenvalues, eigenvectors, iterations\n"
      ],
      "metadata": {
        "id": "YvHUy0_Cf1Uh"
      },
      "execution_count": null,
      "outputs": []
    },
    {
      "cell_type": "code",
      "source": [
        "val, vec, iter = jacobi_rotation(A, 1e-6)\n",
        "print(val)\n",
        "print(vec)\n",
        "print(\"\\nКоличество итераций =\", iter)"
      ],
      "metadata": {
        "colab": {
          "base_uri": "https://localhost:8080/"
        },
        "id": "OhxuLf9vTEPE",
        "outputId": "3efa3028-c00c-4c46-aab0-8b73feadb274"
      },
      "execution_count": null,
      "outputs": [
        {
          "output_type": "stream",
          "name": "stdout",
          "text": [
            "[-9.739539677555143, 11.07883656210681, 3.660703115448333]\n",
            "[[ 0.7702616  -0.19761834  0.60633659]\n",
            " [-0.21285995  0.81658171  0.53654912]\n",
            " [-0.60115532 -0.54234796  0.5869165 ]]\n",
            "\n",
            "Количество итераций = 7\n"
          ]
        }
      ]
    },
    {
      "cell_type": "code",
      "source": [
        "import matplotlib.pyplot as plt\n",
        "\n",
        "ITER=[]\n",
        "EPS=np.arange(10e-2,10e-24,-10e-6)\n",
        "for eps in EPS:\n",
        "  val, vec, iter = jacobi_rotation(A, eps)\n",
        "  ITER.append(iter)\n",
        "plt.plot(ITER,EPS)\n",
        "plt.ylabel(\"Погрешность\")\n",
        "plt.xlabel(\"Итерации\")"
      ],
      "metadata": {
        "colab": {
          "base_uri": "https://localhost:8080/",
          "height": 466
        },
        "id": "58sivQoPYXNE",
        "outputId": "c63959de-3e4c-4444-f9b0-3a30696eb348"
      },
      "execution_count": null,
      "outputs": [
        {
          "output_type": "execute_result",
          "data": {
            "text/plain": [
              "Text(0.5, 0, 'Итерации')"
            ]
          },
          "metadata": {},
          "execution_count": 5
        },
        {
          "output_type": "display_data",
          "data": {
            "text/plain": [
              "<Figure size 640x480 with 1 Axes>"
            ],
            "image/png": "[encoded data removed]"
          },
          "metadata": {}
        }
      ]
    },
    {
      "cell_type": "markdown",
      "source": [
        "### Вывод по заданию 1.4\n",
        "\n",
        "Был реализован метод вращений и найдены собственные вектора и значения соответственно. На графике отображена\n",
        "зависимость между погрешностью и числом итераций.\n"
      ],
      "metadata": {
        "id": "P3V6OC9I82P1"
      }
    },
    {
      "cell_type": "markdown",
      "source": [
        "**ЗАДАНИЕ 1.5**\n",
        "\n",
        "Реализовать алгоритм QR – разложения матриц в виде программы. На его основе разработать программу, реализующую QR –\n",
        "алгоритм решения полной проблемы собственных значений произвольных матриц, задавая в качестве входных данных матрицу\n",
        "и точность вычислений. С использованием разработанного программного обеспечения найти собственные значения матрицы.\n",
        "\n",
        "![image.png](data:image/png;base64,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)"
      ],
      "metadata": {
        "id": "FXuiWffx9dBm"
      }
    },
    {
      "cell_type": "code",
      "source": [
        "import numpy as np\n",
        "A = np.array([[7, 4, 2], [-8, -6, 5], [9, 0, -8]], dtype=float)"
      ],
      "metadata": {
        "id": "g3rm4B-hgJQc"
      },
      "execution_count": null,
      "outputs": []
    },
    {
      "cell_type": "code",
      "source": [
        "def qr_decomposition(A):\n",
        "  m, n = A.shape\n",
        "  Q = np.eye(m)\n",
        "  R = np.copy(A)\n",
        "  for j in range(n):\n",
        "      x = R[j:, j]\n",
        "      norm_x = np.linalg.norm(x)\n",
        "      if x[0] < 0:\n",
        "        norm_x *= -1\n",
        "      v = np.concatenate([[x[0] + norm_x], x[1:]])\n",
        "      v /= np.linalg.norm(v)\n",
        "\n",
        "      R[j:, j:] -= 2 * np.outer(v, np.dot(v, R[j:, j:]))\n",
        "      Q[j:, :] -= 2 * np.outer(v, np.dot(v, Q[j:, :]))\n",
        "\n",
        "  return Q, R"
      ],
      "metadata": {
        "id": "8IT8lh_ggHLU"
      },
      "execution_count": null,
      "outputs": []
    },
    {
      "cell_type": "code",
      "source": [
        "def eigenvalues_qr(A, eps=1e-6, max_iter=1000):\n",
        "  n = len(A)\n",
        "  eigenvalues = np.zeros(n)\n",
        "  for i in range(max_iter):\n",
        "    Q, R = qr_decomposition(A)\n",
        "    A = np.dot(R, Q)\n",
        "    if np.allclose(np.tril(A, -1), np.zeros_like(A), eps):\n",
        "      break\n",
        "  eigenvalues = np.diag(A)\n",
        "\n",
        "  return eigenvalues"
      ],
      "metadata": {
        "id": "cItvxC05hXFd"
      },
      "execution_count": null,
      "outputs": []
    },
    {
      "cell_type": "code",
      "source": [
        "val = eigenvalues_qr(A)\n",
        "val"
      ],
      "metadata": {
        "colab": {
          "base_uri": "https://localhost:8080/"
        },
        "id": "1-cCxF21i0f-",
        "outputId": "7b7d7323-de34-4885-ceb4-5108bd45ec6a"
      },
      "execution_count": null,
      "outputs": [
        {
          "output_type": "execute_result",
          "data": {
            "text/plain": [
              "array([10.34316286,  9.59197285,  3.70925349])"
            ]
          },
          "metadata": {},
          "execution_count": 4
        }
      ]
    },
    {
      "cell_type": "markdown",
      "source": [
        "### Вывод по заданию 1.5\n",
        "\n",
        "Был реализован алгоритм QR-разложения, на основе которого найдены собственные значения.\n",
        "\n"
      ],
      "metadata": {
        "id": "PoUAmUmg9dkt"
      }
    }
  ]
}