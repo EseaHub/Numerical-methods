{
  "nbformat": 4,
  "nbformat_minor": 0,
  "metadata": {
    "colab": {
      "provenance": [],
      "toc_visible": true
    },
    "kernelspec": {
      "name": "python3",
      "display_name": "Python 3"
    },
    "language_info": {
      "name": "python"
    }
  },
  "cells": [
    {
      "cell_type": "markdown",
      "source": [
        "# Отчет по предмету \"Численные методы\"\n",
        "### \"Методы решения задач линейной алгебры\" 2\n",
        "**Студент:** Свистельников Илья Вадимович\n"
      ],
      "metadata": {
        "id": "wtsTJLLT2aFQ"
      }
    },
    {
      "cell_type": "markdown",
      "source": [
        "**ЗАДАНИЕ 2.1**\n",
        "\n",
        "Реализовать методы простой итерации и Ньютона решения нелинейных уравнений в виде программ, задавая в качестве\n",
        "входных данных точность вычислений. С использованием разработанного программного обеспечения найти положительный\n",
        "корень нелинейного уравнения (начальное приближение определить графически). Проанализировать зависимость погрешности\n",
        "вычислений от количества итераций.\n",
        "\n",
        "\n",
        "$x^5 - 7x^2 +3 =0$"
      ],
      "metadata": {
        "id": "BZHOQs32cU62"
      }
    },
    {
      "cell_type": "markdown",
      "source": [
        "### Метод простых итераций"
      ],
      "metadata": {
        "id": "qNO4b-yXcBX4"
      }
    },
    {
      "cell_type": "code",
      "execution_count": null,
      "metadata": {
        "id": "FowfbIoFvZC4"
      },
      "outputs": [],
      "source": [
        "import numpy as np\n",
        "import math\n",
        "\n",
        "def simple_iteration(f, phi, x0, eps):\n",
        "  x = phi(x0)\n",
        "  iter = 0\n",
        "  while abs(x - x0) > eps:\n",
        "    x0 = x\n",
        "    x = phi(x0)\n",
        "    iter += 1\n",
        "\n",
        "  return x, iter\n",
        "\n",
        "def f(x):\n",
        "  return x**5 - 7*x*x + 3\n",
        "\n",
        "def phi(x):\n",
        "  return ((x**5 + 3)/7)**0.5\n"
      ]
    },
    {
      "cell_type": "code",
      "source": [
        "x0S = 1\n",
        "EPS=[1e-4, 1e-10, 1e-12, 1e-15]\n",
        "for eps in EPS:\n",
        "  xS, iter = simple_iteration(f, phi, x0S, eps)\n",
        "  print(f\"Метод простой итерации: {xS}, {iter}\")"
      ],
      "metadata": {
        "colab": {
          "base_uri": "https://localhost:8080/"
        },
        "id": "RKM5VjeWaXbH",
        "outputId": "6a06f6e8-a59e-42e4-f0ee-52c74de8d30d"
      },
      "execution_count": null,
      "outputs": [
        {
          "output_type": "stream",
          "name": "stdout",
          "text": [
            "Метод простой итерации: 0.6691308493405776, 5\n",
            "Метод простой итерации: 0.6691292244534677, 11\n",
            "Метод простой итерации: 0.6691292244510575, 13\n",
            "Метод простой итерации: 0.6691292244510296, 16\n"
          ]
        }
      ]
    },
    {
      "cell_type": "markdown",
      "source": [
        "### Метод Ньютона"
      ],
      "metadata": {
        "id": "r1GnXMMWcIhP"
      }
    },
    {
      "cell_type": "code",
      "source": [
        "def newton_method(f, df, x0, eps):\n",
        "  x = x0 - f(x0) / df(x0)\n",
        "  iter = 0\n",
        "  while abs(x - x0) > eps:\n",
        "    x0 = x\n",
        "    x = x0 - f(x0) / df(x0)\n",
        "    iter += 1\n",
        "\n",
        "  return x, iter\n",
        "\n",
        "def df(x):\n",
        "  return 5*x**4 - 14*x"
      ],
      "metadata": {
        "id": "872ezhEPSVeT"
      },
      "execution_count": null,
      "outputs": []
    },
    {
      "cell_type": "code",
      "source": [
        "x0N = 2\n",
        "EPS=[1e-4, 1e-10, 1e-12, 1e-15]\n",
        "for eps in EPS:\n",
        "  xN, iter = newton_method(f, df, x0N, eps)\n",
        "  print(f\"Метод Ньютона: {xN}, {iter}\")"
      ],
      "metadata": {
        "colab": {
          "base_uri": "https://localhost:8080/"
        },
        "id": "n7mEpJwDTbOD",
        "outputId": "0df335de-44bc-44d7-9c66-3275c0d134d8"
      },
      "execution_count": null,
      "outputs": [
        {
          "output_type": "stream",
          "name": "stdout",
          "text": [
            "Метод Ньютона: 1.82731475546502, 3\n",
            "Метод Ньютона: 1.8273147552819715, 5\n",
            "Метод Ньютона: 1.8273147552819715, 5\n",
            "Метод Ньютона: 1.8273147552819715, 5\n"
          ]
        }
      ]
    },
    {
      "cell_type": "markdown",
      "source": [
        "### Вывод по заданию 2.1\n",
        "\n",
        "Были реализованы методы простых итераций и Ньютона и проведен анализ зависимости погрешности от числа итераций.\n"
      ],
      "metadata": {
        "id": "BXOpV0YraY61"
      }
    },
    {
      "cell_type": "markdown",
      "source": [
        "**ЗАДАНИЕ 2.2**\n",
        "\n",
        "Реализовать методы простой итерации и Ньютона решения систем нелинейных уравнений в виде программного кода, задавая в\n",
        "качестве входных данных точность вычислений.\n",
        "С использованием разработанного программного обеспечения решить систему нелинейных уравнений (при наличии нескольких\n",
        "решений найти то из них, в котором значения неизвестных являются положительными); начальное приближение определить\n",
        "графически. Проанализировать зависимость погрешности вычислений от количества итераций.\n",
        "\n",
        "![image.png](data:image/png;base64,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)"
      ],
      "metadata": {
        "id": "cybp9N36ccGe"
      }
    },
    {
      "cell_type": "code",
      "source": [
        "def F(x):\n",
        "  f1 = np.exp(x[0]*x[1]) + x[0] - 5\n",
        "  f2 = x[0]**2 - 5*x[1] - 1\n",
        "  return np.array([f1, f2])\n",
        "\n",
        "def PHI(x):\n",
        "    return np.array([\n",
        "        (1+5*x[1])**0.5,\n",
        "        np.log(5-x[0])/x[0]\n",
        "    ])\n",
        "\n",
        "def Jacobian(x):\n",
        "  return np.array([\n",
        "        [x[1]*np.exp(x[0]*x[1])+1, x[0]*np.exp(x[0]*x[1])],\n",
        "        [2*x[0], -5]\n",
        "    ])"
      ],
      "metadata": {
        "id": "ezFjD9lccdr-"
      },
      "execution_count": null,
      "outputs": []
    },
    {
      "cell_type": "markdown",
      "source": [
        "### Метод простых итераций"
      ],
      "metadata": {
        "id": "vdPetITQcSDW"
      }
    },
    {
      "cell_type": "code",
      "source": [
        "def simple_iteration_method(f, phi, x0, eps, max_iter=1000):\n",
        "    x = x0\n",
        "    iteration = 0\n",
        "    while iteration <= max_iter:\n",
        "        x_new = phi(x)\n",
        "        if np.linalg.norm(x_new - x) < eps:\n",
        "            return x_new,iteration\n",
        "        x = x_new\n",
        "        iteration+=1\n",
        "    return x, iteration"
      ],
      "metadata": {
        "id": "K7GGjqJybIZ_"
      },
      "execution_count": null,
      "outputs": []
    },
    {
      "cell_type": "code",
      "source": [
        "x0S = np.array([2, 2])\n",
        "EPS=[1e-4, 1e-10, 1e-12, 1e-15]\n",
        "\n",
        "for eps in EPS:\n",
        "  xS, iter = simple_iteration_method(F, PHI, x0S, eps)\n",
        "  print(f\"Метод простой итерации: {xS}, {iter}\")"
      ],
      "metadata": {
        "colab": {
          "base_uri": "https://localhost:8080/"
        },
        "id": "RMgUDgIEem0w",
        "outputId": "e7d0b40a-34b3-4c3b-dcd6-eaa78017b55d"
      },
      "execution_count": null,
      "outputs": [
        {
          "output_type": "stream",
          "name": "stdout",
          "text": [
            "Метод простой итерации: [1.95923647 0.56765847], 36\n",
            "Метод простой итерации: [1.9591575  0.56765962], 88\n",
            "Метод простой итерации: [1.9591575  0.56765962], 105\n",
            "Метод простой итерации: [1.9591575  0.56765962], 130\n"
          ]
        }
      ]
    },
    {
      "cell_type": "markdown",
      "source": [
        "### Метод Ньютона"
      ],
      "metadata": {
        "id": "qWdfZl6TkVdY"
      }
    },
    {
      "cell_type": "code",
      "source": [
        "def newton_method(f, J, x0, eps, max_iter=1000):\n",
        "    x = x0\n",
        "    for iteration in range(max_iter):\n",
        "        dx = np.linalg.solve(J(x), -f(x))\n",
        "        x = x + dx\n",
        "        if np.linalg.norm(dx) < eps:\n",
        "            return x, iteration\n",
        "    return x, max_iter"
      ],
      "metadata": {
        "id": "guAGIopYiYpo"
      },
      "execution_count": null,
      "outputs": []
    },
    {
      "cell_type": "code",
      "source": [
        "x0N = np.array([3, 3])\n",
        "EPS=[1e-4, 1e-10, 1e-12, 1e-15]\n",
        "\n",
        "for eps in EPS:\n",
        "  xN, iter = newton_method(F, Jacobian, x0S, eps)\n",
        "  print(f\"Метод Ньютона: {xN}, {iter}\")"
      ],
      "metadata": {
        "colab": {
          "base_uri": "https://localhost:8080/"
        },
        "id": "KKo3fRyIkkpX",
        "outputId": "5b1887f8-27ef-47fc-9444-51d2015d29aa"
      },
      "execution_count": null,
      "outputs": [
        {
          "output_type": "stream",
          "name": "stdout",
          "text": [
            "Метод Ньютона: [1.9591575  0.56765962], 6\n",
            "Метод Ньютона: [1.9591575  0.56765962], 7\n",
            "Метод Ньютона: [1.9591575  0.56765962], 7\n",
            "Метод Ньютона: [1.9591575  0.56765962], 8\n"
          ]
        }
      ]
    },
    {
      "cell_type": "markdown",
      "source": [
        "### Вывод по заданию 2.2\n",
        "\n",
        "Были реализованы методы простых итераций и Ньютона и проведен анализ зависимости погрешности от числа итераций.\n",
        "\n",
        "\n"
      ],
      "metadata": {
        "id": "1BRW7Gl9lVSY"
      }
    }
  ]
}